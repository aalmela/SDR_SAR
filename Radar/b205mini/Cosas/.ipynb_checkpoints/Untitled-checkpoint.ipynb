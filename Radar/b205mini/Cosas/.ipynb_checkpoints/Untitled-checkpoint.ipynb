{
 "cells": [
  {
   "cell_type": "code",
   "execution_count": 2,
   "metadata": {},
   "outputs": [],
   "source": [
    "from pylab import *\n",
    "\n",
    "import uhd\n",
    "def recv_to_file():\n",
    "    \"\"\"RX samples and write to file\"\"\"\n",
    "    usrp = uhd.usrp.MultiUSRP(\"type=b200\")\n",
    "    num_samps = 1e6\n",
    "    samps = usrp.recv_num_samps(\n",
    "        int(1e6), # Number of samples\n",
    "        2.4e9, # Frequency in Hz\n",
    "        1e6, # Sampling rate\n",
    "        [0], # Receive on channel 0\n",
    "        80, # 80 dB of RX gain\n",
    "    )\n",
    "    samps.tofile('/home/aalmela/samples.dat')\n",
    "    \n",
    "recv_to_file()"
   ]
  },
  {
   "cell_type": "code",
   "execution_count": 3,
   "metadata": {},
   "outputs": [
    {
     "ename": "ImportError",
     "evalue": "cannot import name 'windll' from 'ctypes' (/home/aalmela/anaconda3/lib/python3.7/ctypes/__init__.py)",
     "output_type": "error",
     "traceback": [
      "\u001b[0;31m---------------------------------------------------------------------------\u001b[0m",
      "\u001b[0;31mImportError\u001b[0m                               Traceback (most recent call last)",
      "\u001b[0;32m<ipython-input-3-f84413f47ae9>\u001b[0m in \u001b[0;36m<module>\u001b[0;34m\u001b[0m\n\u001b[0;32m----> 1\u001b[0;31m \u001b[0;32mfrom\u001b[0m \u001b[0mctypes\u001b[0m \u001b[0;32mimport\u001b[0m \u001b[0;34m(\u001b[0m\u001b[0mwindll\u001b[0m\u001b[0;34m,\u001b[0m \u001b[0mbyref\u001b[0m\u001b[0;34m,\u001b[0m \u001b[0mc_void_p\u001b[0m\u001b[0;34m,\u001b[0m \u001b[0mc_char_p\u001b[0m\u001b[0;34m)\u001b[0m\u001b[0;34m\u001b[0m\u001b[0m\n\u001b[0m\u001b[1;32m      2\u001b[0m \u001b[0;32mfrom\u001b[0m \u001b[0mmultiprocessing\u001b[0m \u001b[0;32mimport\u001b[0m \u001b[0mProcess\u001b[0m\u001b[0;34m,\u001b[0m \u001b[0mcurrent_process\u001b[0m\u001b[0;34m\u001b[0m\u001b[0m\n\u001b[1;32m      3\u001b[0m \u001b[0;34m\u001b[0m\u001b[0m\n\u001b[1;32m      4\u001b[0m \u001b[0;32mdef\u001b[0m \u001b[0mpread\u001b[0m\u001b[0;34m(\u001b[0m\u001b[0margstring\u001b[0m\u001b[0;34m)\u001b[0m\u001b[0;34m:\u001b[0m\u001b[0;34m\u001b[0m\u001b[0m\n\u001b[1;32m      5\u001b[0m     \u001b[0;31m# get handle for device\u001b[0m\u001b[0;34m\u001b[0m\u001b[0;34m\u001b[0m\u001b[0m\n",
      "\u001b[0;31mImportError\u001b[0m: cannot import name 'windll' from 'ctypes' (/home/aalmela/anaconda3/lib/python3.7/ctypes/__init__.py)"
     ]
    }
   ],
   "source": [
    "from ctypes import (windll, byref, c_void_p, c_char_p)\n",
    "from multiprocessing import Process, current_process\n",
    "\n",
    "def pread(argstring):\n",
    "    # get handle for device\n",
    "    usrp = c_void_p(0)  \n",
    "    uhdapi = windll.uhd\n",
    "    p_str=c_char_p(argstring.encode(\"UTF8\"))\n",
    "    errNo = uhdapi.uhd_usrp_make(byref(usrp),p_str) \n",
    "    if errNo != 0: \n",
    "        print(\"\\r*****************************************************************\")\n",
    "        print(\"ERROR: \",errNo,\" IN: \",  current_process())\n",
    "        print(\"=================================================================\")\n",
    "    if usrp.value != 0:\n",
    "        uhdapi.uhd_usrp_free(byref(usrp))\n",
    "    return\n",
    "\n",
    "\n",
    "\n"
   ]
  },
  {
   "cell_type": "code",
   "execution_count": 4,
   "metadata": {},
   "outputs": [
    {
     "name": "stdout",
     "output_type": "stream",
     "text": [
      "<module 'uhd.usrp' from '/home/aalmela/anaconda3/lib/python3.7/site-packages/uhd/usrp.py'>\n"
     ]
    }
   ],
   "source": [
    "# import uhd\n",
    "\n",
    "print(uhd.usrp)"
   ]
  },
  {
   "cell_type": "code",
   "execution_count": 5,
   "metadata": {},
   "outputs": [],
   "source": [
    "my_usrp = uhd.usrp.MultiUSRP(\"type=b200\")"
   ]
  },
  {
   "cell_type": "code",
   "execution_count": 6,
   "metadata": {},
   "outputs": [
    {
     "ename": "TypeError",
     "evalue": "'float' object cannot be interpreted as an integer",
     "output_type": "error",
     "traceback": [
      "\u001b[0;31m---------------------------------------------------------------------------\u001b[0m",
      "\u001b[0;31mTypeError\u001b[0m                                 Traceback (most recent call last)",
      "\u001b[0;32m<ipython-input-6-dbc2a4e86e87>\u001b[0m in \u001b[0;36m<module>\u001b[0;34m\u001b[0m\n\u001b[1;32m      4\u001b[0m         \u001b[0;36m1e6\u001b[0m\u001b[0;34m,\u001b[0m \u001b[0;31m# Sampling rate\u001b[0m\u001b[0;34m\u001b[0m\u001b[0m\n\u001b[1;32m      5\u001b[0m         \u001b[0;34m[\u001b[0m\u001b[0;36m0\u001b[0m\u001b[0;34m]\u001b[0m\u001b[0;34m,\u001b[0m \u001b[0;31m# Receive on channel 0\u001b[0m\u001b[0;34m\u001b[0m\u001b[0m\n\u001b[0;32m----> 6\u001b[0;31m         \u001b[0;36m80\u001b[0m \u001b[0;31m# 80 dB of RX gain  ??\u001b[0m\u001b[0;34m\u001b[0m\u001b[0m\n\u001b[0m\u001b[1;32m      7\u001b[0m \u001b[0;34m\u001b[0m\u001b[0m\n\u001b[1;32m      8\u001b[0m     )\n",
      "\u001b[0;32m~/anaconda3/lib/python3.7/site-packages/uhd/usrp.py\u001b[0m in \u001b[0;36mrecv_num_samps\u001b[0;34m(self, num_samps, freq, rate, channels, gain)\u001b[0m\n\u001b[1;32m     30\u001b[0m         \u001b[0;34m:\u001b[0m\u001b[0;32mreturn\u001b[0m\u001b[0;34m:\u001b[0m \u001b[0mnumpy\u001b[0m \u001b[0marray\u001b[0m \u001b[0mof\u001b[0m \u001b[0mcomplex\u001b[0m \u001b[0mfloating\u001b[0m\u001b[0;34m-\u001b[0m\u001b[0mpoint\u001b[0m \u001b[0msamples\u001b[0m \u001b[0;34m(\u001b[0m\u001b[0mfc32\u001b[0m\u001b[0;34m)\u001b[0m\u001b[0;34m\u001b[0m\u001b[0m\n\u001b[1;32m     31\u001b[0m         \"\"\"\n\u001b[0;32m---> 32\u001b[0;31m         \u001b[0mresult\u001b[0m \u001b[0;34m=\u001b[0m \u001b[0mnp\u001b[0m\u001b[0;34m.\u001b[0m\u001b[0mempty\u001b[0m\u001b[0;34m(\u001b[0m\u001b[0;34m(\u001b[0m\u001b[0mlen\u001b[0m\u001b[0;34m(\u001b[0m\u001b[0mchannels\u001b[0m\u001b[0;34m)\u001b[0m\u001b[0;34m,\u001b[0m \u001b[0mnum_samps\u001b[0m\u001b[0;34m)\u001b[0m\u001b[0;34m,\u001b[0m \u001b[0mdtype\u001b[0m\u001b[0;34m=\u001b[0m\u001b[0mnp\u001b[0m\u001b[0;34m.\u001b[0m\u001b[0mcomplex64\u001b[0m\u001b[0;34m)\u001b[0m\u001b[0;34m\u001b[0m\u001b[0m\n\u001b[0m\u001b[1;32m     33\u001b[0m \u001b[0;34m\u001b[0m\u001b[0m\n\u001b[1;32m     34\u001b[0m         \u001b[0;32mfor\u001b[0m \u001b[0mchan\u001b[0m \u001b[0;32min\u001b[0m \u001b[0mchannels\u001b[0m\u001b[0;34m:\u001b[0m\u001b[0;34m\u001b[0m\u001b[0m\n",
      "\u001b[0;31mTypeError\u001b[0m: 'float' object cannot be interpreted as an integer"
     ]
    }
   ],
   "source": [
    "samps = my_usrp.recv_num_samps(\n",
    "        1e6, # Number of samples\n",
    "        2.4e9, # Frequency in Hz\n",
    "        1e6, # Sampling rate\n",
    "        [0], # Receive on channel 0\n",
    "        80 # 80 dB of RX gain  ??\n",
    "    \n",
    "    )"
   ]
  },
  {
   "cell_type": "code",
   "execution_count": 7,
   "metadata": {},
   "outputs": [
    {
     "name": "stderr",
     "output_type": "stream",
     "text": [
      "usage: ipykernel_launcher.py [-h] [-a ARGS] -o OUTPUT_FILE -f FREQ [-r RATE]\n",
      "                             [-d DURATION] [-c CHANNELS [CHANNELS ...]]\n",
      "                             [-g GAIN]\n",
      "ipykernel_launcher.py: error: argument -f/--freq: invalid float value: '/home/aalmela/.local/share/jupyter/runtime/kernel-4f0e93c5-01b1-4bc5-a478-51cc82fb8550.json'\n"
     ]
    },
    {
     "ename": "SystemExit",
     "evalue": "2",
     "output_type": "error",
     "traceback": [
      "An exception has occurred, use %tb to see the full traceback.\n",
      "\u001b[0;31mSystemExit\u001b[0m\u001b[0;31m:\u001b[0m 2\n"
     ]
    },
    {
     "name": "stderr",
     "output_type": "stream",
     "text": [
      "/home/aalmela/anaconda3/lib/python3.7/site-packages/IPython/core/interactiveshell.py:3334: UserWarning: To exit: use 'exit', 'quit', or Ctrl-D.\n",
      "  warn(\"To exit: use 'exit', 'quit', or Ctrl-D.\", stacklevel=1)\n"
     ]
    }
   ],
   "source": [
    "import uhd\n",
    "import numpy as np\n",
    "import argparse\n",
    "\n",
    "def parse_args():\n",
    "    parser = argparse.ArgumentParser()\n",
    "    parser.add_argument(\"-a\", \"--args\", default=\"\", type=str)\n",
    "    parser.add_argument(\"-o\", \"--output-file\", type=str, required=True)\n",
    "    parser.add_argument(\"-f\", \"--freq\", type=float, required=True)\n",
    "    parser.add_argument(\"-r\", \"--rate\", default=1e6, type=float)\n",
    "    parser.add_argument(\"-d\", \"--duration\", default=5.0, type=float)\n",
    "    parser.add_argument(\"-c\", \"--channels\", default=0, nargs=\"+\", type=int)\n",
    "    parser.add_argument(\"-g\", \"--gain\", type=int, default=10)\n",
    "    return parser.parse_args()\n",
    "\n",
    "def main():\n",
    "    args = parse_args()\n",
    "    usrp = uhd.usrp.MultiUSRP(args.args)\n",
    "    num_samps = int(np.ceil(args.duration*args.rate))\n",
    "    if not isinstance(args.channels, list):\n",
    "        args.channels = [args.channels]\n",
    "    samps = usrp.recv_num_samps(num_samps, args.freq, args.rate, args.channels, args.gain)\n",
    "    with open(args.output_file, 'wb') as f:\n",
    "        np.save(f, samps, allow_pickle=False, fix_imports=False)\n",
    "\n",
    "if __name__ == \"__main__\":\n",
    "    main()\n"
   ]
  },
  {
   "cell_type": "code",
   "execution_count": null,
   "metadata": {},
   "outputs": [],
   "source": [
    "import uhd\n",
    "# ...\n",
    "usrp = uhd.usrp.MultiUSRP(\"type=b200\")\n",
    "usrp.set_rx_freq(100e6)"
   ]
  },
  {
   "cell_type": "code",
   "execution_count": null,
   "metadata": {},
   "outputs": [],
   "source": [
    "import uhd\n",
    "\n",
    "print(uhd)"
   ]
  },
  {
   "cell_type": "code",
   "execution_count": null,
   "metadata": {},
   "outputs": [],
   "source": []
  }
 ],
 "metadata": {
  "kernelspec": {
   "display_name": "Python 3",
   "language": "python",
   "name": "python3"
  },
  "language_info": {
   "codemirror_mode": {
    "name": "ipython",
    "version": 3
   },
   "file_extension": ".py",
   "mimetype": "text/x-python",
   "name": "python",
   "nbconvert_exporter": "python",
   "pygments_lexer": "ipython3",
   "version": "3.8.8"
  },
  "latex_envs": {
   "LaTeX_envs_menu_present": true,
   "autoclose": false,
   "autocomplete": true,
   "bibliofile": "biblio.bib",
   "cite_by": "apalike",
   "current_citInitial": 1,
   "eqLabelWithNumbers": true,
   "eqNumInitial": 1,
   "hotkeys": {
    "equation": "Ctrl-E",
    "itemize": "Ctrl-I"
   },
   "labels_anchors": false,
   "latex_user_defs": false,
   "report_style_numbering": false,
   "user_envs_cfg": false
  }
 },
 "nbformat": 4,
 "nbformat_minor": 2
}
