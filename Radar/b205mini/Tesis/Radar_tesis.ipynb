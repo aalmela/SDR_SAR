{
 "cells": [
  {
   "cell_type": "code",
   "execution_count": 43,
   "metadata": {},
   "outputs": [],
   "source": [
    " # import libraries\n",
    "import uhd\n",
    "from uhd import libpyuhd as lib\n",
    "import numpy as np\n",
    "import threading\n",
    "import time\n",
    "import scipy.io\n",
    "from scipy.signal import chirp, spectrogram\n",
    "\n",
    "# import the gain tables\n",
    "import matplotlib.pyplot as plt\n",
    "from scipy.io import loadmat\n",
    "# These delays are used to align the buffers, used later in code\n",
    "INIT_DELAY = 0.018\n",
    "##TX_DELAY   = 0.012\n",
    "TX_DELAY   = 0.010\n",
    "# setup general parameters, see documentation for detailed explanation of params\n",
    "\n",
    "\n"
   ]
  },
  {
   "cell_type": "code",
   "execution_count": 31,
   "metadata": {},
   "outputs": [],
   "source": [
    "# from radar_parameters2 import * # import the parameters used in the radar\n",
    "\n",
    "# define radar parameters\n",
    "##start_freq = 800e6\n",
    "##freq_step  = 16e6\n",
    "##end_freq   = 4e9\n",
    "start_freq = 2200e6\n",
    "freq_step  = 16e6\n",
    "end_freq   = start_freq + freq_step *4\n",
    "\n",
    "\n",
    "# device parameters\n",
    "samp_rate = 16e6\n",
    "master_clock_rate = 16e6\n",
    "# the second tx gain was used, but not needed if using gain tables\n",
    "tx_gain = 80\n",
    "tx_gain2 = 85\n",
    "rx_gaina = 20\n",
    "rx_gainb = 20\n",
    "rx_gain = 20"
   ]
  },
  {
   "cell_type": "code",
   "execution_count": 32,
   "metadata": {},
   "outputs": [],
   "source": [
    "#from gain_parameters import *\n",
    "import scipy.io\n",
    "# Load data and save\n",
    "#gain_a = scipy.io.loadmat('gain_a.mat')\n",
    "#gain_b = scipy.io.loadmat('gain_b.mat')\n",
    "#gain_a= gain_a['gain_a']\n",
    "#gain_b = gain_b['gain_b']\n",
    "\n",
    "gain_a = 80\n",
    "gain_b = 80\n",
    "\n",
    "# repeat for channel B\n",
    "#gainhw_a = scipy.io.loadmat('gainhw_a.mat')\n",
    "#gainhw_b = scipy.io.loadmat('gainhw_b.mat')\n",
    "#gainhw_a = gainhw_a['gainhw_a']\n",
    "#gainhw_b = gainhw_b['gainhw_b']\n",
    "gainhw_a = 80\n",
    "gainhw_b = 80"
   ]
  },
  {
   "cell_type": "code",
   "execution_count": 33,
   "metadata": {},
   "outputs": [],
   "source": [
    "def setup_device(samp_rate, master_clock_rate, tx_gain, rx_gain):\n",
    "    \"\"\"\n",
    "    set up everything except center frequency\n",
    "    :return: a MultiUSRP device object, a tx_streamer, a rx_streamer\n",
    "    \"\"\"\n",
    "    # define device parameters for daughter board and clock of the system\n",
    "    args = \"type = b200\"\n",
    "    subdevice = \"A:A\" # select subdevice in the daughterboard\n",
    "    freq_clock_source = \"internal\"\n",
    "    rx_band_width = samp_rate\n",
    "    tx_band_width = samp_rate\n",
    "    channel_list = [0] ##channel_list = [0, 1]\n",
    "    \n",
    "    # create a usrp device and set up it with the device parameters defined above\n",
    "    usrp = uhd.usrp.MultiUSRP(args)\n",
    "    \n",
    "    # set clock ant time\n",
    "    # this sets the source of the frequency reference, typically a 10 MHz signal\n",
    "    usrp.set_clock_source(freq_clock_source) \n",
    "    \n",
    "    usrp.set_master_clock_rate(master_clock_rate)\n",
    "    \n",
    "    # select subdevice\n",
    "    subdevice_spec = lib.usrp.subdev_spec(subdevice)\n",
    "    usrp.set_rx_subdev_spec(subdevice_spec)\n",
    "    usrp.set_tx_subdev_spec(subdevice_spec)\n",
    "    print(\"Using Device: {}\".format(usrp.get_pp_string()))\n",
    "    \n",
    "    # set sample rate of ADC/DAC\n",
    "    usrp.set_tx_rate(samp_rate) # this will set over all channels\n",
    "    usrp.set_rx_rate(samp_rate)\n",
    "    print(\"Actual RX0 rate: {} Msps\".format(usrp.get_rx_rate(0) / 1e6))\n",
    "    ##print(\"Actual RX1 rate: {} Msps\".format(usrp.get_rx_rate(1) / 1e6))\n",
    "    print(\"Actual TX0 rate: {} Msps\".format(usrp.get_tx_rate(0) / 1e6))\n",
    "    ##print(\"Actual TX1 rate: {} Msps\".format(usrp.get_tx_rate(1) / 1e6))\n",
    "    \n",
    "    # set bandwidth\n",
    "    usrp.set_tx_bandwidth(tx_band_width, channel_list[0])\n",
    "\n",
    "    \n",
    "    usrp.set_rx_bandwidth(rx_band_width, channel_list[0])\n",
    "\n",
    "    \n",
    "    print(\"Actual RX0 bandwidth = {} MHz\".format(usrp.get_rx_bandwidth(0)/ 1e6))\n",
    "\n",
    "    \n",
    "    print(\"Actual TX0 bandwidth = {} MHz\".format(usrp.get_tx_bandwidth(0)/ 1e6))\n",
    "\n",
    "    \n",
    "    # create stream args and tx streamer\n",
    "    st_args = lib.usrp.stream_args(\"fc32\", \"sc16\")\n",
    "    st_args.channels = channel_list\n",
    "    \n",
    "    # create tx streamer\n",
    "    tx_streamer = usrp.get_tx_stream(st_args)\n",
    "    \n",
    "    # create rx streamer\n",
    "    rx_streamer = usrp.get_rx_stream(st_args)\n",
    "    \n",
    "    return usrp, tx_streamer, rx_streamer\n",
    "\n",
    "\n"
   ]
  },
  {
   "cell_type": "code",
   "execution_count": 34,
   "metadata": {},
   "outputs": [],
   "source": [
    "def init_usrp_device_time(usrp):\n",
    "    \"\"\"\n",
    "    set the usrp device time to zero\n",
    "    :param usrp: a MultiUSRP Device\n",
    "    \"\"\"\n",
    "    usrp.set_time_now(lib.types.time_spec(0.0))\n",
    "    return\n"
   ]
  },
  {
   "cell_type": "code",
   "execution_count": 35,
   "metadata": {},
   "outputs": [],
   "source": [
    "# define tx worker: the tx worker should always\n",
    "#send data until all the freq data are saved\n",
    "\n",
    "def tx_worker(tx_streamer, tx_data, tx_md):\n",
    "    \n",
    "    total_num_samps = 2000 # this defines the number of samples to send\n",
    "    num_acc_samps   = 0\n",
    "    num_tx_samps    = 0\n",
    "    # define timing specifications\n",
    "    tx_md.time_spec = uhd.types.TimeSpec(usrp.get_time_now().get_real_secs() + TX_DELAY)\n",
    "    while num_acc_samps < total_num_samps:\n",
    "        num_tx_samps += tx_streamer.send(tx_data, tx_md) * num_channels\n",
    "        \n",
    "        num_acc_samps += min(total_num_samps - num_acc_samps,tx_streamer.get_max_num_samps())\n",
    "    \n",
    "# print(num_tx_samps)\n",
    "# the tune_center_freq represents the tx/rx tune state\n",
    "\n"
   ]
  },
  {
   "cell_type": "code",
   "execution_count": 36,
   "metadata": {},
   "outputs": [],
   "source": [
    "def tune_center_freq(usrp, target_center_freq):\n",
    "    global state\n",
    "    ##channel_list = [0, 1]\n",
    "    channel_list = [0]\n",
    "    # tune center freqs on all channels\n",
    "    usrp.set_rx_freq(lib.types.tune_request(target_center_freq),    0)\n",
    "    ##usrp.set_rx_freq(lib.types.tune_request(target_center_freq),    1)\n",
    "    usrp.set_tx_freq(lib.types.tune_request(target_center_freq),    0)\n",
    "    ##usrp.set_tx_freq(lib.types.tune_request(target_center_freq),    1)\n",
    "    if current_freq < 2.6e9 :\n",
    "        usrp.set_tx_gain(tx_gain  , channel_list[0])\n",
    "        usrp.set_rx_gain(rx_gaina , channel_list[0])\n",
    "        ##usrp.set_rx_gain(rx_gaina+gain_a[0,gain_index], channel_list[0])\n",
    "        ##usrp.set_rx_gain(rx_gainb+gain_b[0,gain_index], channel_list[1])\n",
    "    elif current_freq >= 2.6e9:\n",
    "        usrp.set_tx_gain(tx_gain2, channel_list[0])\n",
    "        usrp.set_rx_gain(rx_gaina, channel_list[0])\n",
    "        ##usrp.set_rx_gain(rx_gaina+gain_a[0,gain_index],channel_list[0])\n",
    "        ##usrp.set_rx_gain(rx_gainb+gain_b[0,gain_index],channel_list[1])\n",
    "\n",
    "\n",
    "    # wait until the lo's are locked\n",
    "    while not (usrp.get_rx_sensor(\"lo_locked\", 0).to_bool()\n",
    "    and usrp.get_tx_sensor(\"lo_locked\", 0).to_bool()):\n",
    "        pass\n",
    "    state = \"rx_and_save_data\"\n",
    "    return\n",
    "\n"
   ]
  },
  {
   "cell_type": "code",
   "execution_count": 37,
   "metadata": {},
   "outputs": [],
   "source": [
    "def rx_and_save_data(usrp, rx_streamer, rx_buffer, rx_md, num_rx_samps, current_freq):\n",
    "    global state\n",
    "    \n",
    "    if current_freq > end_freq:\n",
    "        state = \"Done\"\n",
    "        return\n",
    "\n",
    "    stream_cmd = lib.types.stream_cmd(lib.types.stream_mode.num_done)\n",
    "    stream_cmd.num_samps = num_rx_samps # receive 10 periods\n",
    "    stream_cmd.stream_now = False\n",
    "    stream_cmd.time_spec = usrp.get_time_now() + lib.types.time_spec(INIT_DELAY)\n",
    "    rx_streamer.issue_stream_cmd(stream_cmd) # tells all channels to stream\n",
    "    rx = rx_streamer.recv(rx_buffer, rx_md)\n",
    "    print(rx)\n",
    "    # print \"Current freq = {}\".format(current_freq)\n",
    "    state = \"tune_center_freq\"\n",
    "    # utility function: prepare tx data\n",
    "    \n"
   ]
  },
  {
   "cell_type": "code",
   "execution_count": 38,
   "metadata": {},
   "outputs": [],
   "source": [
    "def generate_tx_data(samp_rate):\n",
    "    ##channel_list = (0, 1)\n",
    "    channel_list = [0]\n",
    "    # generate chirp params\n",
    "    fs = samp_rate\n",
    "    \n",
    "    # this is length of chirp\n",
    "    N2 = 85000\n",
    "    \n",
    "    bw = 8e6\n",
    "    # bandwidth of the chirp\n",
    "    n = np.arange(0,N2-1)-N2/2\n",
    "    t = n/fs\n",
    "    \n",
    "    send_chirp = np.array(np.exp(1j*np.pi*.5*(bw/t[-1])*(t**2)), dtype = np.complex64)\n",
    "    \n",
    "    N = 4096\n",
    "    send_chirp = np.pad(send_chirp, (N), 'constant', constant_values=(0))\n",
    "    wave_ampl = .8\n",
    "    \n",
    "    # since we have two channels to transmit, we tile tx_data\n",
    "    ##tx_data = np.tile(send_chirp, (1, 1)) # also tiles to send just one period\n",
    "\n",
    "    ##tx_data = np.tile(tx_data[0], (len(channel_list),1))\n",
    "    tx_data = np.tile(send_chirp, (len(channel_list),1))\n",
    "    \n",
    "    \n",
    "    # 2 is the length of channel\n",
    "    # create tx metadata\n",
    "    tx_md = lib.types.tx_metadata()\n",
    "    tx_md.start_of_burst = True\n",
    "    tx_md.end_of_burst   = False\n",
    "    tx_md.has_time_spec  = True\n",
    "    length_wave_one_period = send_chirp.size\n",
    "    chirp_duration = length_wave_one_period * samp_rate\n",
    "    return tx_data, tx_md, send_chirp, length_wave_one_period, chirp_duration\n"
   ]
  },
  {
   "cell_type": "code",
   "execution_count": 41,
   "metadata": {},
   "outputs": [
    {
     "name": "stdout",
     "output_type": "stream",
     "text": [
      "Using Device: Single USRP:\n",
      "  Device: B-Series Device\n",
      "  Mboard 0: B205mini\n",
      "  RX Channel: 0\n",
      "    RX DSP: 0\n",
      "    RX Dboard: A\n",
      "    RX Subdev: FE-RX1\n",
      "  TX Channel: 0\n",
      "    TX DSP: 0\n",
      "    TX Dboard: A\n",
      "    TX Subdev: FE-TX1\n",
      "\n",
      "Actual RX0 rate: 16.0 Msps\n",
      "Actual TX0 rate: 16.0 Msps\n",
      "Actual RX0 bandwidth = 56.0 MHz\n",
      "Actual TX0 bandwidth = 56.0 MHz\n",
      "931910\n",
      "97920\n",
      "0\n",
      "58249\n",
      "total scan time = 0.27054738998413086 seconds\n"
     ]
    }
   ],
   "source": [
    "start_state = \"tune_center_freq\"\n",
    "# state has 3 values: tune_center_freq, rx_and_save_data, Done\n",
    "state = start_state # initialize state to start_state\n",
    "\n",
    "\n",
    "# set up a usrp device object and get usrp, tx_streamer, rx_streamer\n",
    "usrp, tx_streamer, rx_streamer = setup_device(samp_rate, master_clock_rate, tx_gain, rx_gain)\n",
    "# prepare rx_buffer_list and rx metadata\n",
    "# the rx_buffer_list is preallocated\n",
    "\n",
    "##\n",
    "### \n",
    "tx_data, tx_md, send_chirp, length_wave_one_period, chirp_duration = generate_tx_data(samp_rate)\n",
    "###\n",
    "num_rx_samps = length_wave_one_period *10\n",
    "rx_md = lib.types.rx_metadata()\n",
    "\n",
    "# create the receive buffers and freq step\n",
    "num_freqs = (end_freq - start_freq) / float(freq_step) + 1\n",
    "rx_buffer_list = []\n",
    "rx_buffer_idx  = 0\n",
    "\n",
    "for _ in range(int(num_freqs)):\n",
    "    rx_buffer = np.zeros((1, num_rx_samps), dtype=np.complex64)\n",
    "    rx_buffer_list.append(rx_buffer)\n",
    "\n",
    "# start the tx work and set up basics for B210\n",
    "init_usrp_device_time(usrp) # set device time to 0\n",
    "num_channels         = tx_streamer.get_num_channels()\n",
    "max_samps_per_packet = tx_streamer.get_max_num_samps()\n",
    "current_freq         = start_freq\n",
    "gain_index           = 0\n",
    "# create the tx and rx workers before running\n",
    "####t1_tx_worker = threading.Thread(target=tx_worker, args=(tx_streamer, tx_data, tx_md))\n",
    "\n",
    "###\n",
    "####r1_rx_worker = threading.Thread(target= rx_and_save_data,args=(usrp, rx_streamer, rx_buffer, rx_md, num_rx_samps, current_freq))\n",
    "###\n",
    "# begin the loop\n",
    "start = time.time()\n",
    "while True:\n",
    "    if  state == \"tune_center_freq\":\n",
    "        tune_center_freq(usrp, current_freq)\n",
    "        current_freq = current_freq + freq_step\n",
    "        gain_index   = gain_index + 1\n",
    "    elif state == \"rx_and_save_data\":\n",
    "        # create the tx and rx workers before running\n",
    "        t1_tx_worker = threading.Thread(target=tx_worker, args=(tx_streamer, tx_data, tx_md))\n",
    "\n",
    "        ###\n",
    "        r1_rx_worker = threading.Thread(target= rx_and_save_data,\n",
    "                                        args=(usrp, rx_streamer, rx_buffer_list[rx_buffer_idx], rx_md, num_rx_samps, current_freq))\n",
    "\n",
    "        # this is the state to call both workers and save the data in the rx buffer\n",
    "        r1_rx_worker.start()\n",
    "        t1_tx_worker.start()\n",
    "        r1_rx_worker.join()\n",
    "        t1_tx_worker.join()\n",
    "        rx_buffer_idx = rx_buffer_idx + 1\n",
    "        \n",
    "    elif state == \"Done\":\n",
    "        break\n",
    "        \n",
    "end = time.time()\n",
    "print(\"total scan time = {} seconds\".format(end - start))\n"
   ]
  },
  {
   "cell_type": "code",
   "execution_count": null,
   "metadata": {},
   "outputs": [],
   "source": []
  },
  {
   "cell_type": "code",
   "execution_count": 42,
   "metadata": {},
   "outputs": [
    {
     "name": "stdout",
     "output_type": "stream",
     "text": [
      "(5, 1, 931910)\n"
     ]
    },
    {
     "name": "stderr",
     "output_type": "stream",
     "text": [
      "/home/aalmela/anaconda3/lib/python3.7/site-packages/numpy/core/_asarray.py:85: ComplexWarning: Casting complex values to real discards the imaginary part\n",
      "  return array(a, dtype, copy=False, order=order)\n"
     ]
    },
    {
     "data": {
      "image/png": "[encoded data removed]",
      "text/plain": [
       "<Figure size 432x288 with 1 Axes>"
      ]
     },
     "metadata": {
      "needs_background": "light"
     },
     "output_type": "display_data"
    },
    {
     "name": "stderr",
     "output_type": "stream",
     "text": [
      "/home/aalmela/anaconda3/lib/python3.7/site-packages/numpy/core/_asarray.py:85: ComplexWarning: Casting complex values to real discards the imaginary part\n",
      "  return array(a, dtype, copy=False, order=order)\n"
     ]
    },
    {
     "data": {
      "image/png": "[encoded data removed]",
      "text/plain": [
       "<Figure size 432x288 with 1 Axes>"
      ]
     },
     "metadata": {
      "needs_background": "light"
     },
     "output_type": "display_data"
    },
    {
     "name": "stderr",
     "output_type": "stream",
     "text": [
      "/home/aalmela/anaconda3/lib/python3.7/site-packages/numpy/core/_asarray.py:85: ComplexWarning: Casting complex values to real discards the imaginary part\n",
      "  return array(a, dtype, copy=False, order=order)\n"
     ]
    },
    {
     "data": {
      "image/png": "[encoded data removed]",
      "text/plain": [
       "<Figure size 432x288 with 1 Axes>"
      ]
     },
     "metadata": {
      "needs_background": "light"
     },
     "output_type": "display_data"
    }
   ],
   "source": [
    "# save all data to a file\n",
    "rx_buffer_list = np.array(rx_buffer_list)\n",
    "#scipy.io.savemat(\"./Final/inside/loop2.mat\", {\"loop2\": rx_buffer_list})\n",
    "print(rx_buffer_list.shape)\n",
    "e0  = rx_buffer_list[0,0,:]\n",
    "e1  = rx_buffer_list[1,0,:]\n",
    "e2  = rx_buffer_list[2,0,:]\n",
    "e3  = rx_buffer_list[3,0,:]\n",
    "\n",
    "\n",
    "\n",
    "\n",
    "\n",
    "\n",
    "plt.figure(1)\n",
    "#plt.plot(a1[:])\n",
    "\n",
    "#plt.plot(b1[:])\n",
    "#plt.plot(d1[:])\n",
    "#plt.plot(d0[:])\n",
    "\n",
    "plt.plot(e0[:])\n",
    "plt.show()\n",
    "\n",
    "plt.figure(2)\n",
    "\n",
    "plt.plot(e1[:])\n",
    "plt.show()\n",
    "\n",
    "plt.figure(3)\n",
    "plt.plot(e2[:])\n",
    "plt.show()\n",
    "\n"
   ]
  },
  {
   "cell_type": "code",
   "execution_count": null,
   "metadata": {},
   "outputs": [],
   "source": []
  },
  {
   "cell_type": "code",
   "execution_count": null,
   "metadata": {},
   "outputs": [],
   "source": []
  }
 ],
 "metadata": {
  "kernelspec": {
   "display_name": "Python 3",
   "language": "python",
   "name": "python3"
  },
  "language_info": {
   "codemirror_mode": {
    "name": "ipython",
    "version": 3
   },
   "file_extension": ".py",
   "mimetype": "text/x-python",
   "name": "python",
   "nbconvert_exporter": "python",
   "pygments_lexer": "ipython3",
   "version": "3.7.0"
  },
  "latex_envs": {
   "LaTeX_envs_menu_present": true,
   "autoclose": false,
   "autocomplete": true,
   "bibliofile": "biblio.bib",
   "cite_by": "apalike",
   "current_citInitial": 1,
   "eqLabelWithNumbers": true,
   "eqNumInitial": 1,
   "hotkeys": {
    "equation": "Ctrl-E",
    "itemize": "Ctrl-I"
   },
   "labels_anchors": false,
   "latex_user_defs": false,
   "report_style_numbering": false,
   "user_envs_cfg": false
  }
 },
 "nbformat": 4,
 "nbformat_minor": 2
}
