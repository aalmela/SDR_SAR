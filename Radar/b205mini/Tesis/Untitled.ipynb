{
 "cells": [
  {
   "cell_type": "code",
   "execution_count": null,
   "metadata": {},
   "outputs": [],
   "source": [
    "# THIS CODE SIMULATES BOTH INDIVIDUAL OPERATION AND\n",
    "# FULL STEPPED FREQUENCY WITH LFM SIGNAL\n",
    "# FOR MORE DETAILS SEE OFFICIAL SFCW CODE, THIS IS THE SAME THING JUST\n",
    "# USES SIMULATIONS, VARIABLES WERE FREQUENTLY CHANGED TO PROVIDE\n",
    "# FURTHER UNDERSTANDING OF DATA. DO NOT USE THIS TO PROCESS ANY REAL\n",
    "# DATA\n",
    "\n",
    "#create the signal\n",
    "\n",
    "Bi = 20e6\n",
    "fs = 20e6\n",
    "samps = 138000*2\n",
    "Tp = samps/fs\n",
    "t = -Tp/2: 1/fs : Tp/2\n",
    "w_tm = w(t, Bi, Tp);\n",
    "w_tm1 = w_tm;\n",
    "\n",
    "#  bandwidth of sub-pulse\n",
    "%\n",
    " sampling rate (2BW)\n",
    "%\n",
    " number of samples per chirp\n",
    "%\n",
    " pulse duration\n",
    "%\n",
    " negative time vector centering pulse at 0\n",
    "%\n",
    " create the chirp from w() function\n",
    "%\n",
    " simply rename chirp to not mess up original\n",
    "N = length(w_tm1);\n",
    " % length of chirp\n",
    "%%%%%%%%% w_tm1 can be used as a reference signal. Now we need a simulated\n",
    "%%%%%%%%% receive signal. Must add noise and delay\n",
    "noise = .2*rand(1,N);\n",
    " % create noise vector\n",
    "w_tm2 = circshift(w_tm1, -10)+noise; % add the noise\n",
    "set(0,'defaultfigurecolor',[1 1 1])\n",
    " %plot\n",
    "figure()\n",
    "plot(t,real(w_tm2))\n",
    "title('Simulated RX Signal')\n",
    "ylim([-1.1 1.2])\n",
    "xlim([-.0005 .0005])\n",
    "set(0,'defaultfigurecolor',[1 1 1])\n",
    "figure()\n",
    "% plot time series of w_t\n",
    "plot(t,real(w_tm1))\n",
    "title('Simulated TX Signal for Reference')\n",
    "xlim([-.0005 .0005])\n",
    "ylim([-1.1 1.1])\n",
    "\n"
   ]
  }
 ],
 "metadata": {
  "kernelspec": {
   "display_name": "Python 3",
   "language": "python",
   "name": "python3"
  },
  "language_info": {
   "codemirror_mode": {
    "name": "ipython",
    "version": 3
   },
   "file_extension": ".py",
   "mimetype": "text/x-python",
   "name": "python",
   "nbconvert_exporter": "python",
   "pygments_lexer": "ipython3",
   "version": "3.7.0"
  },
  "latex_envs": {
   "LaTeX_envs_menu_present": true,
   "autoclose": false,
   "autocomplete": true,
   "bibliofile": "biblio.bib",
   "cite_by": "apalike",
   "current_citInitial": 1,
   "eqLabelWithNumbers": true,
   "eqNumInitial": 1,
   "hotkeys": {
    "equation": "Ctrl-E",
    "itemize": "Ctrl-I"
   },
   "labels_anchors": false,
   "latex_user_defs": false,
   "report_style_numbering": false,
   "user_envs_cfg": false
  }
 },
 "nbformat": 4,
 "nbformat_minor": 2
}
