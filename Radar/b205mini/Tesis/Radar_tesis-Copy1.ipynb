{
 "cells": [
  {
   "cell_type": "code",
   "execution_count": 1,
   "metadata": {},
   "outputs": [],
   "source": [
    " # import libraries\n",
    "import uhd\n",
    "from uhd import libpyuhd as lib\n",
    "import numpy as np\n",
    "import threading\n",
    "import time\n",
    "import scipy.io\n",
    "from scipy.signal import chirp, spectrogram\n",
    "\n",
    "# import the gain tables\n",
    "import matplotlib.pyplot as plt\n",
    "from scipy.io import loadmat\n",
    "# These delays are used to align the buffers, used later in code\n",
    "INIT_DELAY = 0.018\n",
    "##TX_DELAY   = 0.012\n",
    "TX_DELAY   = 0.010\n",
    "# setup general parameters, see documentation for detailed explanation of params\n",
    "\n",
    "Bw        = 8e6\n",
    "Nlen      = 85000\n",
    "Npad      = 4096\n",
    "    "
   ]
  },
  {
   "cell_type": "code",
   "execution_count": 2,
   "metadata": {},
   "outputs": [],
   "source": [
    "# from radar_parameters2 import * # import the parameters used in the radar\n",
    "\n",
    "# define radar parameters\n",
    "start_freq = 2406e6\n",
    "freq_step  = 1e6\n",
    "end_freq   = start_freq + freq_step *2\n",
    "\n",
    "\n",
    "# device parameters\n",
    "samp_rate = 16e6\n",
    "master_clock_rate = 16e6\n",
    "\n",
    "# the second tx gain was used, but not needed if using gain tables\n",
    "tx_gain  = 20\n",
    "rx_gain  = 20\n",
    "\n",
    "tx_gain2 = 20\n",
    "rx_gain2 = 20\n"
   ]
  },
  {
   "cell_type": "code",
   "execution_count": 3,
   "metadata": {},
   "outputs": [],
   "source": [
    "def setup_device(samp_rate, master_clock_rate, tx_gain, rx_gain):\n",
    "    \"\"\"\n",
    "    set up everything except center frequency\n",
    "    :return: a MultiUSRP device object, a tx_streamer, a rx_streamer\n",
    "    \"\"\"\n",
    "    # define device parameters for daughter board and clock of the system\n",
    "    args              = \"type = b200\"\n",
    "    subdevice         = \"A:A\" # select subdevice in the daughterboard\n",
    "    freq_clock_source = \"internal\"\n",
    "    rx_band_width     = samp_rate\n",
    "    tx_band_width     = samp_rate\n",
    "    channel_list      = [0] \n",
    "    \n",
    "    # create a usrp device and set up it with the device parameters defined above\n",
    "    usrp = uhd.usrp.MultiUSRP(args)\n",
    "    \n",
    "    # set clock ant time\n",
    "    # this sets the source of the frequency reference, typically a 10 MHz signal\n",
    "    usrp.set_clock_source(freq_clock_source) \n",
    "    \n",
    "    usrp.set_master_clock_rate(master_clock_rate)\n",
    "    \n",
    "    # select subdevice\n",
    "    subdevice_spec = lib.usrp.subdev_spec(subdevice)\n",
    "    usrp.set_rx_subdev_spec(subdevice_spec)\n",
    "    usrp.set_tx_subdev_spec(subdevice_spec)\n",
    "    print(\"Using Device: {}\".format(usrp.get_pp_string()))\n",
    "    \n",
    "    # set sample rate of ADC/DAC\n",
    "    usrp.set_tx_rate(samp_rate) # this will set over all channels\n",
    "    print(\"Actual TX0 rate: {} Msps\".format(usrp.get_tx_rate(0) / 1e6))\n",
    "    usrp.set_rx_rate(samp_rate)\n",
    "    print(\"Actual RX0 rate: {} Msps\".format(usrp.get_rx_rate(0) / 1e6))\n",
    "    \n",
    "    # set bandwidth\n",
    "    usrp.set_tx_bandwidth(tx_band_width, channel_list[0])\n",
    "    \n",
    "    usrp.set_rx_bandwidth(rx_band_width, channel_list[0])\n",
    "    \n",
    "    print(\"Actual RX0 bandwidth = {} MHz\".format(usrp.get_rx_bandwidth(0)/ 1e6))\n",
    "\n",
    "    print(\"Actual TX0 bandwidth = {} MHz\".format(usrp.get_tx_bandwidth(0)/ 1e6))\n",
    "\n",
    "    # create stream args and tx streamer\n",
    "    st_args = lib.usrp.stream_args(\"fc32\", \"sc16\")\n",
    "    st_args.channels = channel_list\n",
    "    \n",
    "    # create tx streamer\n",
    "    tx_streamer = usrp.get_tx_stream(st_args)\n",
    "    \n",
    "    # create rx streamer\n",
    "    rx_streamer = usrp.get_rx_stream(st_args)\n",
    "    \n",
    "    return usrp, tx_streamer, rx_streamer\n",
    "\n",
    "\n"
   ]
  },
  {
   "cell_type": "code",
   "execution_count": 4,
   "metadata": {},
   "outputs": [],
   "source": [
    "def init_usrp_device_time(usrp):\n",
    "    \"\"\"\n",
    "    set the usrp device time to zero\n",
    "    :param usrp: a MultiUSRP Device\n",
    "    \"\"\"\n",
    "    usrp.set_time_now(lib.types.time_spec(0.0))\n",
    "    return\n"
   ]
  },
  {
   "cell_type": "code",
   "execution_count": 5,
   "metadata": {},
   "outputs": [],
   "source": [
    "# define tx worker: the tx worker should always\n",
    "#send data until all the freq data are saved\n",
    "\n",
    "def tx_worker(tx_streamer, tx_data, tx_md):\n",
    "    print(len(tx_data[0]))\n",
    "    total_num_samps = len(tx_data) # this defines the number of samples to send\n",
    "    num_acc_samps   = 0\n",
    "    num_tx_samps    = 0\n",
    "    # define timing specifications\n",
    "    tx_md.time_spec = uhd.types.TimeSpec(usrp.get_time_now().get_real_secs() + TX_DELAY)\n",
    "\n",
    "    while num_acc_samps < total_num_samps:\n",
    "        num_tx_samps += tx_streamer.send(tx_data, tx_md) * num_channels\n",
    "        num_acc_samps += min(total_num_samps - num_acc_samps,tx_streamer.get_max_num_samps())\n",
    "\n",
    "\n"
   ]
  },
  {
   "cell_type": "code",
   "execution_count": 6,
   "metadata": {},
   "outputs": [],
   "source": [
    "def tune_center_freq(usrp, target_center_freq):\n",
    "    global state\n",
    "    channel_list = [0]\n",
    "    # tune center freqs on all channels\n",
    "    usrp.set_rx_freq(lib.types.tune_request(target_center_freq),    0)\n",
    "    usrp.set_tx_freq(lib.types.tune_request(target_center_freq),    0)\n",
    "    \n",
    "    if current_freq < 2.6e9 :\n",
    "        usrp.set_tx_gain(tx_gain  , channel_list[0])\n",
    "        usrp.set_rx_gain(rx_gain  , channel_list[0])\n",
    "    \n",
    "    elif current_freq >= 2.6e9:\n",
    "        usrp.set_tx_gain(tx_gain2, channel_list[0])\n",
    "        usrp.set_rx_gain(rx_gain2, channel_list[0])\n",
    "\n",
    "\n",
    "    # wait until the local oscillators are locked\n",
    "    while not (usrp.get_rx_sensor(\"lo_locked\", 0).to_bool() \n",
    "               and usrp.get_tx_sensor(\"lo_locked\", 0).to_bool()): pass\n",
    "    \n",
    "    state = \"rx_and_save_data\"\n",
    "    \n",
    "\n"
   ]
  },
  {
   "cell_type": "code",
   "execution_count": 7,
   "metadata": {},
   "outputs": [],
   "source": [
    "def rx_and_save_data(usrp, rx_streamer, rx_buffer, rx_md, num_rx_samps, current_freq):\n",
    "    global state\n",
    "    \n",
    "    if current_freq > end_freq:\n",
    "        state = \"Done\"\n",
    "        return\n",
    "\n",
    "    stream_cmd            = lib.types.stream_cmd(lib.types.stream_mode.num_done)\n",
    "    stream_cmd.num_samps  = num_rx_samps # receive 10 periods\n",
    "    stream_cmd.stream_now = False\n",
    "    stream_cmd.time_spec  = usrp.get_time_now() + lib.types.time_spec(INIT_DELAY)\n",
    "    rx_streamer.issue_stream_cmd(stream_cmd) # tells all channels to stream\n",
    "    rx = rx_streamer.recv(rx_buffer, rx_md)\n",
    "    \n",
    "\n",
    "    state = \"tune_center_freq\"\n",
    "    \n"
   ]
  },
  {
   "cell_type": "code",
   "execution_count": 8,
   "metadata": {},
   "outputs": [],
   "source": [
    "def chirp(samp_rate):\n",
    "    # generate chirp params\n",
    "    fs = samp_rate\n",
    "    \n",
    "    # bandwidth of the chirp\n",
    "    n = np.arange(0,Nlen-1)-Nlen/2\n",
    "    t = n/fs\n",
    "    send_chirp = np.array(np.exp(1j*np.pi/2*(Bw/t[-1])*(t**2)), dtype = np.complex64)\n",
    "    \n",
    "    return  send_chirp\n"
   ]
  },
  {
   "cell_type": "code",
   "execution_count": 9,
   "metadata": {},
   "outputs": [],
   "source": [
    "def generate_tx_data(samp_rate):\n",
    "    ##channel_list = (0, 1)\n",
    "    channel_list = [0]\n",
    "    \n",
    "    send_chirp = chirp(samp_rate)\n",
    "\n",
    "    send_chirp = np.pad(send_chirp, (Npad), 'constant', constant_values=(0))\n",
    "    \n",
    "    # since we have two channels to transmit, we tile tx_data\n",
    "    ##tx_data = np.tile(send_chirp, (1, 1)) # also tiles to send just one period\n",
    "\n",
    "    ##tx_data = np.tile(tx_data[0], (len(channel_list),1))\n",
    "    tx_data = np.tile(send_chirp, (len(channel_list),1))\n",
    "    \n",
    "    \n",
    "    # 1 is the length of channel\n",
    "    # create tx metadata\n",
    "    tx_md = lib.types.tx_metadata()\n",
    "    tx_md.start_of_burst = True\n",
    "    tx_md.end_of_burst   = False\n",
    "    tx_md.has_time_spec  = True\n",
    "    length_wave_one_period = send_chirp.size\n",
    "    chirp_duration = length_wave_one_period * samp_rate\n",
    "    return tx_data, tx_md, send_chirp, length_wave_one_period, chirp_duration\n"
   ]
  },
  {
   "cell_type": "code",
   "execution_count": 10,
   "metadata": {},
   "outputs": [
    {
     "name": "stdout",
     "output_type": "stream",
     "text": [
      "Using Device: Single USRP:\n",
      "  Device: B-Series Device\n",
      "  Mboard 0: B205mini\n",
      "  RX Channel: 0\n",
      "    RX DSP: 0\n",
      "    RX Dboard: A\n",
      "    RX Subdev: FE-RX1\n",
      "  TX Channel: 0\n",
      "    TX DSP: 0\n",
      "    TX Dboard: A\n",
      "    TX Subdev: FE-TX1\n",
      "\n",
      "Actual TX0 rate: 16.0 Msps\n",
      "Actual RX0 rate: 16.0 Msps\n",
      "Actual RX0 bandwidth = 16.0 MHz\n",
      "Actual TX0 bandwidth = 16.0 MHz\n"
     ]
    }
   ],
   "source": [
    "# set up a usrp device object and get usrp, tx_streamer, rx_streamer\n",
    "usrp, tx_streamer, rx_streamer = setup_device(samp_rate, master_clock_rate, tx_gain, rx_gain)\n",
    "# prepare rx_buffer_list and rx metadata\n",
    "# the rx_buffer_list is preallocated\n",
    "\n",
    "##\n",
    "### \n",
    "tx_data, tx_md, send_chirp, length_wave_one_period, chirp_duration = generate_tx_data(samp_rate)\n",
    "###\n",
    "num_rx_samps = length_wave_one_period \n",
    "rx_md        = lib.types.rx_metadata()"
   ]
  },
  {
   "cell_type": "code",
   "execution_count": 11,
   "metadata": {},
   "outputs": [
    {
     "name": "stdout",
     "output_type": "stream",
     "text": [
      "tune\n",
      "tune\n",
      "tune\n",
      "total scan time = 0.3478965759277344 seconds\n"
     ]
    }
   ],
   "source": [
    "start_state = \"tune_center_freq\"\n",
    "# state has 3 values: tune_center_freq, rx_and_save_data, Done\n",
    "state = start_state # initialize state to start_state\n",
    "\n",
    "# create the receive buffers and freq step\n",
    "num_freqs = (end_freq - start_freq) / float(freq_step) + 1\n",
    "rx_buffer_list = []\n",
    "rx_buffer_idx  = 0\n",
    "\n",
    "rx_buffer = np.zeros((1, num_rx_samps), dtype=np.complex64)\n",
    "for _ in range(int(num_freqs)):\n",
    "    rx_buffer_list.append(rx_buffer)\n",
    "\n",
    "# start the tx work and set up basics for B205\n",
    "init_usrp_device_time(usrp) # set device time to 0\n",
    "num_channels         = tx_streamer.get_num_channels()\n",
    "max_samps_per_packet = tx_streamer.get_max_num_samps()\n",
    "current_freq         = start_freq\n",
    "gain_index           = 0\n",
    "\n",
    "\n",
    "# begin the loop\n",
    "start = time.time()\n",
    "while True:\n",
    "    if  state == \"tune_center_freq\":\n",
    "        tune_center_freq(usrp, current_freq)\n",
    "        current_freq = current_freq + freq_step\n",
    "        gain_index   = gain_index + 1\n",
    "        print(\"tune\")\n",
    "    elif state == \"rx_and_save_data\":\n",
    "        # create the tx and rx workers before running\n",
    "        #t1_tx_worker = threading.Thread(target=tx_worker, args=(tx_streamer, tx_data, tx_md))\n",
    "\n",
    "        ###\n",
    "        # create the tx and rx workers before running\n",
    "        r1_rx_worker = threading.Thread(target= rx_and_save_data,\n",
    "                                        args=(usrp, rx_streamer, rx_buffer_list[rx_buffer_idx], rx_md, num_rx_samps, current_freq))\n",
    "\n",
    "        # this is the state to call both workers and save the data in the rx buffer\n",
    "        r1_rx_worker.start()\n",
    "        #t1_tx_worker.start()\n",
    "        r1_rx_worker.join()\n",
    "        #t1_tx_worker.join()\n",
    "        rx_buffer_idx = rx_buffer_idx + 1\n",
    "        \n",
    "    elif state == \"Done\":\n",
    "        break\n",
    "        \n",
    "end = time.time()\n",
    "print(\"total scan time = {} seconds\".format(end - start))\n"
   ]
  },
  {
   "cell_type": "code",
   "execution_count": null,
   "metadata": {},
   "outputs": [],
   "source": []
  },
  {
   "cell_type": "code",
   "execution_count": 12,
   "metadata": {},
   "outputs": [
    {
     "name": "stdout",
     "output_type": "stream",
     "text": [
      "(3, 1, 93191)\n"
     ]
    },
    {
     "data": {
      "image/png": "[encoded data removed]",
      "text/plain": [
       "<Figure size 432x288 with 1 Axes>"
      ]
     },
     "metadata": {
      "needs_background": "light"
     },
     "output_type": "display_data"
    },
    {
     "data": {
      "image/png": "[encoded data removed]",
      "text/plain": [
       "<Figure size 432x288 with 1 Axes>"
      ]
     },
     "metadata": {
      "needs_background": "light"
     },
     "output_type": "display_data"
    },
    {
     "name": "stderr",
     "output_type": "stream",
     "text": [
      "/home/aalmela/anaconda3/lib/python3.7/site-packages/numpy/core/_asarray.py:85: ComplexWarning: Casting complex values to real discards the imaginary part\n",
      "  return array(a, dtype, copy=False, order=order)\n"
     ]
    },
    {
     "data": {
      "image/png": "[encoded data removed]",
      "text/plain": [
       "<Figure size 432x288 with 1 Axes>"
      ]
     },
     "metadata": {
      "needs_background": "light"
     },
     "output_type": "display_data"
    },
    {
     "name": "stderr",
     "output_type": "stream",
     "text": [
      "/home/aalmela/anaconda3/lib/python3.7/site-packages/numpy/core/_asarray.py:85: ComplexWarning: Casting complex values to real discards the imaginary part\n",
      "  return array(a, dtype, copy=False, order=order)\n"
     ]
    },
    {
     "data": {
      "image/png": "[encoded data removed]",
      "text/plain": [
       "<Figure size 432x288 with 1 Axes>"
      ]
     },
     "metadata": {
      "needs_background": "light"
     },
     "output_type": "display_data"
    }
   ],
   "source": [
    "from pylab import *\n",
    "# save all data to a file\n",
    "rx_buffer_list = np.array(rx_buffer_list)\n",
    "#scipy.io.savemat(\"./Final/inside/loop2.mat\", {\"loop2\": rx_buffer_list})\n",
    "print(rx_buffer_list.shape)\n",
    "e0  = rx_buffer_list[0,0,:]\n",
    "e1  = rx_buffer_list[1,0,:]\n",
    "e2  = rx_buffer_list[2,0,:]\n",
    "\n",
    "\n",
    "\n",
    "\n",
    "plt.figure(1)\n",
    "#plt.plot(a1[:])\n",
    "\n",
    "#plt.plot(b1[:])\n",
    "#plt.plot(d1[:])\n",
    "#plt.plot(d0[:])\n",
    "\n",
    "plt.plot(abs(e0[:]))\n",
    "plt.show()\n",
    "\n",
    "psd(e0[:70000], NFFT=1024, Fs=samp_rate/1e6, Fc=start_freq/1e6)\n",
    "xlabel('Frequency (MHz)')\n",
    "ylabel('Relative power (dB)')\n",
    "\n",
    "\n",
    "show()\n",
    "\n",
    "\n",
    "plt.figure(2)\n",
    "\n",
    "plt.plot(e1[:])\n",
    "plt.show()\n",
    "\n",
    "plt.figure(3)\n",
    "plt.plot(e2[:])\n",
    "plt.show()\n",
    "\n",
    "\n"
   ]
  },
  {
   "cell_type": "code",
   "execution_count": 15,
   "metadata": {},
   "outputs": [
    {
     "data": {
      "image/png": "[encoded data removed]",
      "text/plain": [
       "<Figure size 432x288 with 1 Axes>"
      ]
     },
     "metadata": {
      "needs_background": "light"
     },
     "output_type": "display_data"
    }
   ],
   "source": [
    "psd(e2[:70000], NFFT=1024, Fs=samp_rate/1e6, Fc=start_freq/1e6)\n",
    "xlabel('Frequency (MHz)')\n",
    "ylabel('Relative power (dB)')\n",
    "\n",
    "\n",
    "show()\n"
   ]
  },
  {
   "cell_type": "code",
   "execution_count": null,
   "metadata": {},
   "outputs": [],
   "source": []
  }
 ],
 "metadata": {
  "kernelspec": {
   "display_name": "Python 3",
   "language": "python",
   "name": "python3"
  },
  "language_info": {
   "codemirror_mode": {
    "name": "ipython",
    "version": 3
   },
   "file_extension": ".py",
   "mimetype": "text/x-python",
   "name": "python",
   "nbconvert_exporter": "python",
   "pygments_lexer": "ipython3",
   "version": "3.8.8"
  },
  "latex_envs": {
   "LaTeX_envs_menu_present": true,
   "autoclose": false,
   "autocomplete": true,
   "bibliofile": "biblio.bib",
   "cite_by": "apalike",
   "current_citInitial": 1,
   "eqLabelWithNumbers": true,
   "eqNumInitial": 1,
   "hotkeys": {
    "equation": "Ctrl-E",
    "itemize": "Ctrl-I"
   },
   "labels_anchors": false,
   "latex_user_defs": false,
   "report_style_numbering": false,
   "user_envs_cfg": false
  }
 },
 "nbformat": 4,
 "nbformat_minor": 2
}
